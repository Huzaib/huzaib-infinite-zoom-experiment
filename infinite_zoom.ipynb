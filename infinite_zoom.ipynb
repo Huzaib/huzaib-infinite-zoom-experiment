{
 "cells": [
  {
   "cell_type": "code",
   "execution_count": 1,
   "id": "a06e918b-2399-4c82-98b6-8546791c2d47",
   "metadata": {
    "tags": []
   },
   "outputs": [
    {
     "name": "stderr",
     "output_type": "stream",
     "text": [
      "/opt/conda/lib/python3.10/site-packages/diffusers/utils/outputs.py:63: UserWarning: torch.utils._pytree._register_pytree_node is deprecated. Please use torch.utils._pytree.register_pytree_node instead.\n",
      "  torch.utils._pytree._register_pytree_node(\n"
     ]
    }
   ],
   "source": [
    "import sys\n",
    "sys.path.extend(['infinite-zoom-stable-diffusion/'])\n",
    "from helpers import *\n",
    "from diffusers import StableDiffusionInpaintPipeline, EulerAncestralDiscreteScheduler\n",
    "from PIL import Image\n",
    "import gradio as gr\n",
    "import numpy as np\n",
    "import os\n",
    "import time\n",
    "\n",
    "import torch\n",
    "import torchaudio\n",
    "import torch.nn as nn\n",
    "import torch.nn.functional as F\n",
    "\n",
    "import IPython\n",
    "\n",
    "from tortoise.api import TextToSpeech\n",
    "from tortoise.utils.audio import load_audio, load_voice, load_voices"
   ]
  },
  {
   "cell_type": "markdown",
   "id": "fdc4755b-027c-44e4-b2b5-9561cf44fd99",
   "metadata": {},
   "source": [
    "#### Major Dependencies\n",
    "\n",
    "###### May not need scipy and other libraries"
   ]
  },
  {
   "cell_type": "code",
   "execution_count": 2,
   "id": "040af02e-d8ca-4777-a931-93a6ace6449b",
   "metadata": {},
   "outputs": [],
   "source": [
    "# %pip install gradio > /dev/null 2>&1\n",
    "# %pip install -qq transformers scipy ftfy accelerate > /dev/null 2>&1\n",
    "# %pip install -qq --upgrade diffusers[torch] > /dev/null 2>&1\n",
    "# %pip install torchaudio==2.2.0 --index-url https://download.pytorch.org/whl/cu118 > /dev/null 2>&1\n",
    "# %pip install tortoise-tts==3.0.0 > /dev/null 2>&1\n",
    "# %pip install deepspeed > /dev/null 2>&1"
   ]
  },
  {
   "cell_type": "code",
   "execution_count": 3,
   "id": "dc61b352-fb24-431b-962c-163c562614a9",
   "metadata": {
    "tags": []
   },
   "outputs": [
    {
     "name": "stderr",
     "output_type": "stream",
     "text": [
      "Some weights of the model checkpoint at jbetker/wav2vec2-large-robust-ft-libritts-voxpopuli were not used when initializing Wav2Vec2ForCTC: ['wav2vec2.encoder.pos_conv_embed.conv.weight_v', 'wav2vec2.encoder.pos_conv_embed.conv.weight_g']\n",
      "- This IS expected if you are initializing Wav2Vec2ForCTC from the checkpoint of a model trained on another task or with another architecture (e.g. initializing a BertForSequenceClassification model from a BertForPreTraining model).\n",
      "- This IS NOT expected if you are initializing Wav2Vec2ForCTC from the checkpoint of a model that you expect to be exactly identical (initializing a BertForSequenceClassification model from a BertForSequenceClassification model).\n",
      "Some weights of Wav2Vec2ForCTC were not initialized from the model checkpoint at jbetker/wav2vec2-large-robust-ft-libritts-voxpopuli and are newly initialized: ['wav2vec2.encoder.pos_conv_embed.conv.parametrizations.weight.original0', 'wav2vec2.encoder.pos_conv_embed.conv.parametrizations.weight.original1']\n",
      "You should probably TRAIN this model on a down-stream task to be able to use it for predictions and inference.\n"
     ]
    },
    {
     "name": "stdout",
     "output_type": "stream",
     "text": [
      "[2024-03-09 09:17:56,824] [INFO] [real_accelerator.py:191:get_accelerator] Setting ds_accelerator to cuda (auto detect)\n",
      "[2024-03-09 09:17:57,035] [INFO] [logging.py:96:log_dist] [Rank -1] DeepSpeed info: version=0.14.0, git-hash=unknown, git-branch=unknown\n",
      "[2024-03-09 09:17:57,036] [WARNING] [config_utils.py:69:_process_deprecated_field] Config parameter mp_size is deprecated use tensor_parallel.tp_size instead\n",
      "[2024-03-09 09:17:57,037] [INFO] [logging.py:96:log_dist] [Rank -1] quantize_bits = 8 mlp_extra_grouping = False, quantize_groups = 1\n"
     ]
    },
    {
     "name": "stderr",
     "output_type": "stream",
     "text": [
      "Using /home/jupyter/.cache/torch_extensions/py310_cu118 as PyTorch extensions root...\n",
      "Detected CUDA files, patching ldflags\n",
      "Emitting ninja build file /home/jupyter/.cache/torch_extensions/py310_cu118/transformer_inference/build.ninja...\n",
      "Building extension module transformer_inference...\n",
      "Allowing ninja to set a default number of workers... (overridable by setting the environment variable MAX_JOBS=N)\n"
     ]
    },
    {
     "name": "stdout",
     "output_type": "stream",
     "text": [
      "ninja: no work to do.\n",
      "Time to load transformer_inference op: 0.08418154716491699 seconds\n",
      "[2024-03-09 09:17:57,641] [INFO] [logging.py:96:log_dist] [Rank -1] DeepSpeed-Inference config: {'layer_id': 0, 'hidden_size': 1024, 'intermediate_size': 4096, 'heads': 16, 'num_hidden_layers': -1, 'dtype': torch.float32, 'pre_layer_norm': True, 'norm_type': <NormType.LayerNorm: 1>, 'local_rank': -1, 'stochastic_mode': False, 'epsilon': 1e-05, 'mp_size': 1, 'scale_attention': True, 'triangular_masking': True, 'local_attention': False, 'window_size': 1, 'rotary_dim': -1, 'rotate_half': False, 'rotate_every_two': True, 'return_tuple': True, 'mlp_after_attn': True, 'mlp_act_func_type': <ActivationFuncType.GELU: 1>, 'specialized_mode': False, 'training_mp_size': 1, 'bigscience_bloom': False, 'max_out_tokens': 1024, 'min_out_tokens': 1, 'scale_attn_by_inverse_layer_idx': False, 'enable_qkv_quantization': False, 'use_mup': False, 'return_single_tuple': False, 'set_empty_params': False, 'transposed_mode': False, 'use_triton': False, 'triton_autotune': False, 'num_kv': -1, 'rope_theta': 10000}\n"
     ]
    },
    {
     "name": "stderr",
     "output_type": "stream",
     "text": [
      "Loading extension module transformer_inference...\n",
      "/opt/conda/lib/python3.10/site-packages/torch/nn/utils/weight_norm.py:28: UserWarning: torch.nn.utils.weight_norm is deprecated in favor of torch.nn.utils.parametrizations.weight_norm.\n",
      "  warnings.warn(\"torch.nn.utils.weight_norm is deprecated in favor of torch.nn.utils.parametrizations.weight_norm.\")\n"
     ]
    }
   ],
   "source": [
    "# This will download all the models used by Tortoise from the HF hub.\n",
    "# tts = TextToSpeech()\n",
    "# If you want to use deepspeed the pass use_deepspeed=True nearly 2x faster than normal\n",
    "tts = TextToSpeech(use_deepspeed=True, kv_cache=True)"
   ]
  },
  {
   "cell_type": "code",
   "execution_count": 4,
   "id": "4fc42fc0-f32b-489f-bbf1-80e5fe3bc52c",
   "metadata": {
    "tags": []
   },
   "outputs": [],
   "source": [
    "def zoom(\n",
    "    prompts_array,\n",
    "    negative_prompt,\n",
    "    num_outpainting_steps,\n",
    "    guidance_scale,\n",
    "    num_inference_steps,\n",
    "    custom_init_image\n",
    "):\n",
    "    prompts = {}\n",
    "    for idx in range(len(prompts_array)):\n",
    "        try:\n",
    "            key = idx\n",
    "            value = prompts_array[idx]\n",
    "            prompts[key] = value\n",
    "        except ValueError:\n",
    "            pass\n",
    "\n",
    "\n",
    "    height = 512\n",
    "    width = height\n",
    "\n",
    "    current_image = Image.new(mode=\"RGBA\", size=(height, width))\n",
    "    mask_image = np.array(current_image)[:, :, 3]\n",
    "    mask_image = Image.fromarray(255-mask_image).convert(\"RGB\")\n",
    "    current_image = current_image.convert(\"RGB\")\n",
    "    if (custom_init_image):\n",
    "        current_image = custom_init_image.resize(\n",
    "            (width, height), resample=Image.LANCZOS)\n",
    "    else:\n",
    "        init_images = pipe(prompt=prompts[0],\n",
    "                           negative_prompt=negative_prompt,\n",
    "                           image=current_image,\n",
    "                           guidance_scale=guidance_scale,\n",
    "                           height=height,\n",
    "                           width=width,\n",
    "                           mask_image=mask_image,\n",
    "                           num_inference_steps=num_inference_steps)[0]\n",
    "        current_image = init_images[0]\n",
    "    mask_width = 128\n",
    "    num_interpol_frames = 30\n",
    "\n",
    "    all_frames = []\n",
    "    all_frames.append(current_image)\n",
    "\n",
    "    for i in range(num_outpainting_steps):\n",
    "        print('Outpaint step: ' + str(i+1) +\n",
    "              ' / ' + str(num_outpainting_steps))\n",
    "\n",
    "        prev_image_fix = current_image\n",
    "\n",
    "        prev_image = shrink_and_paste_on_blank(current_image, mask_width)\n",
    "\n",
    "        current_image = prev_image\n",
    "\n",
    "        # create mask (black image with white mask_width width edges)\n",
    "        mask_image = np.array(current_image)[:, :, 3]\n",
    "        mask_image = Image.fromarray(255-mask_image).convert(\"RGB\")\n",
    "\n",
    "        # inpainting step\n",
    "        current_image = current_image.convert(\"RGB\")\n",
    "        images = pipe(prompt=prompts[max(k for k in prompts.keys() if k <= i)],\n",
    "                      negative_prompt=negative_prompt,\n",
    "                      image=current_image,\n",
    "                      guidance_scale=guidance_scale,\n",
    "                      height=height,\n",
    "                      width=width,\n",
    "                      # generator = g_cuda.manual_seed(seed),\n",
    "                      mask_image=mask_image,\n",
    "                      num_inference_steps=num_inference_steps)[0]\n",
    "        current_image = images[0]\n",
    "        current_image.paste(prev_image, mask=prev_image)\n",
    "\n",
    "        # interpolation steps bewteen 2 inpainted images (=sequential zoom and crop)\n",
    "        for j in range(num_interpol_frames - 1):\n",
    "            interpol_image = current_image\n",
    "            interpol_width = round(\n",
    "                (1 - (1-2*mask_width/height)**(1-(j+1)/num_interpol_frames))*height/2\n",
    "            )\n",
    "            interpol_image = interpol_image.crop((interpol_width,\n",
    "                                                  interpol_width,\n",
    "                                                  width - interpol_width,\n",
    "                                                  height - interpol_width))\n",
    "\n",
    "            interpol_image = interpol_image.resize((height, width))\n",
    "\n",
    "            # paste the higher resolution previous image in the middle to avoid drop in quality caused by zooming\n",
    "            interpol_width2 = round(\n",
    "                (1 - (height-2*mask_width) / (height-2*interpol_width)) / 2*height\n",
    "            )\n",
    "            prev_image_fix_crop = shrink_and_paste_on_blank(\n",
    "                prev_image_fix, interpol_width2)\n",
    "            interpol_image.paste(prev_image_fix_crop, mask=prev_image_fix_crop)\n",
    "\n",
    "            all_frames.append(interpol_image)\n",
    "        all_frames.append(current_image)\n",
    "        # interpol_image.show()\n",
    "    video_file_name = \"test_dummy\"\n",
    "    fps = 30\n",
    "    save_path = video_file_name + \".mp4\"\n",
    "    start_frame_dupe_amount = 15\n",
    "    last_frame_dupe_amount = 15\n",
    "\n",
    "    write_video(save_path, all_frames, fps, False,\n",
    "                start_frame_dupe_amount, last_frame_dupe_amount)\n",
    "    return save_path"
   ]
  },
  {
   "cell_type": "code",
   "execution_count": 5,
   "id": "7d868701-62bf-4d5b-abdd-1eb12682fb3c",
   "metadata": {
    "tags": []
   },
   "outputs": [],
   "source": [
    "import openai\n",
    "\n",
    "API_TYPE = 'azure'\n",
    "API_BASE = 'https://roposo01.openai.azure.com/'\n",
    "API_VERSION = '2023-03-15-preview'\n",
    "AZURE_OPENAI_KEY = 'f0af22431e2b4ba880996fedb93e6d05'\n",
    "ENGINE = 'gpt35-turbo'\n",
    "DEFAULT_RESPONSE = 'nothing'\n",
    "TEMPERATURE = 0\n",
    "MAX_TOKENS = 1024\n",
    "TOP_P = 1.0\n",
    "FREQUENCY_PENALTY = 0\n",
    "PRESENCE_PENALTY = 0\n",
    "STOP = None\n",
    "\n",
    "openai.api_type = API_TYPE\n",
    "openai.api_base = API_BASE \n",
    "openai.api_version = API_VERSION\n",
    "openai.api_key = AZURE_OPENAI_KEY\n",
    "\n",
    "def generate_gpt_response(text, systemprompt):\n",
    "    try:\n",
    "        response = openai.ChatCompletion.create(\n",
    "            engine=ENGINE,\n",
    "            messages=[\n",
    "                {\"role\": \"system\", \"content\": systemprompt},\n",
    "                {\"role\": \"user\", \"content\": text}\n",
    "            ],\n",
    "            temperature=TEMPERATURE,\n",
    "            max_tokens=MAX_TOKENS,\n",
    "            top_p=TOP_P,\n",
    "            frequency_penalty=FREQUENCY_PENALTY,\n",
    "            presence_penalty=PRESENCE_PENALTY,\n",
    "            stop=STOP\n",
    "        )\n",
    "        answer = response[\"choices\"][0][\"message\"][\"content\"]\n",
    "        # print(text, systemprompt, answer)\n",
    "        if answer != '':\n",
    "            return answer\n",
    "        return text\n",
    "    except Exception as e:\n",
    "        print(text, systemprompt)\n",
    "        print('GPT query failed: ', e)\n",
    "        return DEFAULT_RESPONSE\n",
    "    "
   ]
  },
  {
   "cell_type": "code",
   "execution_count": 6,
   "id": "34690416-f802-484c-9e24-6b3c0217ea1d",
   "metadata": {
    "tags": []
   },
   "outputs": [],
   "source": [
    "story_prompt = 'Give me a short one paragraph of a list of mind-wobbling unknown facts about the given topic: '\n",
    "topic = 'Mention Of Death In Christianity'\n",
    "description = generate_gpt_response(topic, story_prompt)"
   ]
  },
  {
   "cell_type": "code",
   "execution_count": 7,
   "id": "768a3dfa-bfc7-4657-bca7-86c99025fb4d",
   "metadata": {
    "tags": []
   },
   "outputs": [
    {
     "data": {
      "text/plain": [
       "'In Christianity, death is seen as a transition from earthly life to eternal life. Some mind-wobbling unknown facts about death in Christianity include the belief in the resurrection of the dead, the concept of purgatory, the idea of a final judgment, and the belief that death is not the end but a new beginning. Additionally, there are various interpretations of the afterlife, including the idea of heaven and hell, and the belief in the existence of angels and demons.'"
      ]
     },
     "execution_count": 7,
     "metadata": {},
     "output_type": "execute_result"
    }
   ],
   "source": [
    "description"
   ]
  },
  {
   "cell_type": "code",
   "execution_count": 8,
   "id": "b24dc4ef-2422-4524-8426-943805919ec4",
   "metadata": {
    "tags": []
   },
   "outputs": [
    {
     "data": {
      "text/plain": [
       "'In Christianity death is seen as a transition from earthly life to eternal life Some mind wobbling unknown facts about death in Christianity include the belief in the resurrection of the dead the concept of purgatory the idea of a final judgment and the belief that death is not the end but a new beginning Additionally there are various interpretations of the afterlife including the idea of heaven and hell and the belief in the existence of angels and demons '"
      ]
     },
     "execution_count": 8,
     "metadata": {},
     "output_type": "execute_result"
    }
   ],
   "source": [
    "import re\n",
    "\n",
    "description = re.sub('[^A-Za-z0-9]+', ' ', description)\n",
    "description"
   ]
  },
  {
   "cell_type": "code",
   "execution_count": 9,
   "id": "5be1e886-cbbb-4c3e-833d-82319af75dd7",
   "metadata": {
    "tags": []
   },
   "outputs": [
    {
     "data": {
      "text/plain": [
       "'In Christianity death is seen as a transition from earthly life to eternal life Some mind wobbling unknown facts about death in Christianity include the belief in the resurrection of the dead the concept of purgatory the idea of a final judgment and the belief that death is not the end but a new beginning Additionally there are various interpretations of the afterlife including the idea of heaven and hell and the belief in the existence of angels and demons '"
      ]
     },
     "execution_count": 9,
     "metadata": {},
     "output_type": "execute_result"
    }
   ],
   "source": [
    "description = re.sub('[0-9]+', '', description)\n",
    "description"
   ]
  },
  {
   "cell_type": "code",
   "execution_count": 10,
   "id": "686377df-d358-4ab0-a027-820921aca84b",
   "metadata": {
    "tags": []
   },
   "outputs": [],
   "source": [
    "!rm -rf ./test.wav"
   ]
  },
  {
   "cell_type": "code",
   "execution_count": null,
   "id": "57554508-f762-4f4c-a856-33372204c9e4",
   "metadata": {
    "tags": []
   },
   "outputs": [],
   "source": [
    "from tqdm import tqdm\n",
    "preset = \"ultra_fast\"\n",
    "voice = 'tom'\n",
    "voice_samples, conditioning_latents = load_voice(voice)\n",
    "gen = tts.tts_with_preset(description, voice_samples=voice_samples, conditioning_latents=conditioning_latents, preset=preset)\n",
    "\n",
    "torchaudio.save(f'test.wav', gen.squeeze(0).cpu(), 24000)\n"
   ]
  },
  {
   "cell_type": "code",
   "execution_count": null,
   "id": "0392605f-cd74-40ac-b1f5-7c1f6cf9bf62",
   "metadata": {},
   "outputs": [],
   "source": [
    "from moviepy.editor import *\n",
    "\n",
    "audio_file = './test.wav'\n",
    "audioclip = AudioFileClip(audio_file)\n",
    "video_duration = audioclip.duration"
   ]
  },
  {
   "cell_type": "code",
   "execution_count": null,
   "id": "528a3a82-f6e3-4bd9-b9e9-07a1810d294a",
   "metadata": {},
   "outputs": [],
   "source": [
    "os.environ[\"CUDA_VISIBLE_DEVICES\"] = \"0\"\n",
    "inpaint_model_list = [\n",
    "    \"stabilityai/stable-diffusion-2-inpainting\",\n",
    "    \"runwayml/stable-diffusion-inpainting\",\n",
    "    \"parlance/dreamlike-diffusion-1.0-inpainting\",\n",
    "    \"ghunkins/stable-diffusion-liberty-inpainting\",\n",
    "    \"ImNoOne/f222-inpainting-diffusers\"\n",
    "]\n",
    "default_prompt = \"A psychedelic jungle with trees that have glowing, fractal-like patterns, Simon stalenhag poster 1920s style, street level view, hyper futuristic, 8k resolution, hyper realistic\"\n",
    "default_negative_prompt = \"frames, borderline, text, charachter, duplicate, error, out of frame, watermark, low quality, ugly, deformed, blur\""
   ]
  },
  {
   "cell_type": "code",
   "execution_count": null,
   "id": "ed93dae5-1279-4d94-90ee-0df49847f0bc",
   "metadata": {},
   "outputs": [],
   "source": [
    "model_id = inpaint_model_list[0]\n",
    "pipe = StableDiffusionInpaintPipeline.from_pretrained(\n",
    "    model_id,\n",
    "    torch_dtype=torch.float16,\n",
    ")\n",
    "pipe.scheduler = EulerAncestralDiscreteScheduler.from_config(\n",
    "    pipe.scheduler.config)\n",
    "pipe = pipe.to(\"cuda\")\n",
    "\n",
    "pipe.safety_checker = None\n",
    "pipe.enable_attention_slicing()\n",
    "g_cuda = torch.Generator(device='cuda')"
   ]
  },
  {
   "cell_type": "code",
   "execution_count": null,
   "id": "e57e9bb7-3751-43eb-8b1f-92ba49e88ee5",
   "metadata": {},
   "outputs": [],
   "source": []
  },
  {
   "cell_type": "code",
   "execution_count": null,
   "id": "dc01aac0-b276-4fb6-8223-75e76157489e",
   "metadata": {},
   "outputs": [],
   "source": []
  },
  {
   "cell_type": "code",
   "execution_count": 30,
   "id": "033b9ad9-e754-4448-a11a-d50195128087",
   "metadata": {
    "tags": []
   },
   "outputs": [],
   "source": [
    "scene_list='Give me a list of 10 sentences comma separated describing mystical and fantasy visual scenes related to the provided description with uhd 64k quality written in them'\n",
    "scenes = generate_gpt_response(description, scene_list)"
   ]
  },
  {
   "cell_type": "code",
   "execution_count": 31,
   "id": "7b027b87-2289-487d-8ad7-a3a45b2f3da1",
   "metadata": {
    "tags": []
   },
   "outputs": [
    {
     "data": {
      "text/plain": [
       "'1. In the Level I multiverse, imagine infinite universes stretching out before you in a breathtaking display of cosmic wonder, each one unique and teeming with life.\\n2. The Level II multiverse is a fantastical realm where the laws of physics are different in each universe, creating a kaleidoscope of colors and shapes that defy imagination.\\n3. As you journey through the Level III multiverse, you encounter parallel universes with vastly different histories, where the course of events has diverged in ways that are both strange and wondrous.\\n4. The multiverse theory suggests that our universe is just one of many, a tiny speck in a vast and infinite cosmos that stretches beyond our wildest dreams.\\n5. In this multiverse, the laws of physics are not fixed but vary from universe to universe, creating a tapestry of worlds that is both beautiful and bewildering.\\n6. As you explore the multiverse, you encounter strange and exotic creatures that defy description, each one a testament to the infinite variety of life that exists in this cosmic tapestry.\\n7. The multiverse is a place of endless possibility, where anything can happen and anything is possible, from the birth of new stars to the creation of entire galaxies.\\n8. In the multiverse, time and space are fluid and ever-changing, creating a landscape that is both familiar and alien, a place where the laws of physics are constantly being rewritten.\\n9. As you journey through the multiverse, you encounter strange and mysterious phenomena that defy explanation, from black holes to dark matter, each one a testament to the infinite complexity of the cosmos.\\n10. The multiverse is a place of infinite beauty and wonder, a realm where the impossible becomes possible and the unimaginable becomes real, a place where anything is possible and anything can happen.'"
      ]
     },
     "execution_count": 31,
     "metadata": {},
     "output_type": "execute_result"
    }
   ],
   "source": [
    "scenes"
   ]
  },
  {
   "cell_type": "code",
   "execution_count": 32,
   "id": "1d8b6f2a-56a9-4f1e-8c26-b7c08f0a537c",
   "metadata": {
    "tags": []
   },
   "outputs": [],
   "source": [
    "scenes = [i.split('.')[1].strip() for i in scenes.split('\\n')]"
   ]
  },
  {
   "cell_type": "code",
   "execution_count": 41,
   "id": "fa170f49-4d9e-49f0-9625-3d5d303833ff",
   "metadata": {
    "tags": []
   },
   "outputs": [
    {
     "data": {
      "text/plain": [
       "['In the Level I multiverse, imagine infinite universes stretching out before you in a breathtaking display of cosmic wonder, each one unique and teeming with life',\n",
       " 'The Level II multiverse is a fantastical realm where the laws of physics are different in each universe, creating a kaleidoscope of colors and shapes that defy imagination',\n",
       " 'As you journey through the Level III multiverse, you encounter parallel universes with vastly different histories, where the course of events has diverged in ways that are both strange and wondrous',\n",
       " 'The multiverse theory suggests that our universe is just one of many, a tiny speck in a vast and infinite cosmos that stretches beyond our wildest dreams',\n",
       " 'In this multiverse, the laws of physics are not fixed but vary from universe to universe, creating a tapestry of worlds that is both beautiful and bewildering',\n",
       " 'As you explore the multiverse, you encounter strange and exotic creatures that defy description, each one a testament to the infinite variety of life that exists in this cosmic tapestry',\n",
       " 'The multiverse is a place of endless possibility, where anything can happen and anything is possible, from the birth of new stars to the creation of entire galaxies',\n",
       " 'In the multiverse, time and space are fluid and ever-changing, creating a landscape that is both familiar and alien, a place where the laws of physics are constantly being rewritten',\n",
       " 'As you journey through the multiverse, you encounter strange and mysterious phenomena that defy explanation, from black holes to dark matter, each one a testament to the infinite complexity of the cosmos',\n",
       " 'The multiverse is a place of infinite beauty and wonder, a realm where the impossible becomes possible and the unimaginable becomes real, a place where anything is possible and anything can happen']"
      ]
     },
     "execution_count": 41,
     "metadata": {},
     "output_type": "execute_result"
    }
   ],
   "source": [
    "scenes"
   ]
  },
  {
   "cell_type": "code",
   "execution_count": 45,
   "id": "a22aff67-bba8-488a-8bf8-1fb1d8e4bb6c",
   "metadata": {
    "tags": []
   },
   "outputs": [],
   "source": [
    "filler = \" that have glowing, fractal-like patterns, hyper futuristic, 8k resolution, hyper realistic\"\n",
    "scenes = [scene + filler for scene in scenes]"
   ]
  },
  {
   "cell_type": "code",
   "execution_count": null,
   "id": "9b65d1d5-39eb-415c-ab97-99a5cc5223d5",
   "metadata": {},
   "outputs": [],
   "source": [
    "!rm -rf test_dummy.mp4"
   ]
  },
  {
   "cell_type": "code",
   "execution_count": 48,
   "id": "226ab073-ed92-4ebf-8ff0-512c0bc4bd47",
   "metadata": {
    "tags": []
   },
   "outputs": [
    {
     "data": {
      "application/vnd.jupyter.widget-view+json": {
       "model_id": "282356ce4c814531835b90791165983f",
       "version_major": 2,
       "version_minor": 0
      },
      "text/plain": [
       "  0%|          | 0/50 [00:00<?, ?it/s]"
      ]
     },
     "metadata": {},
     "output_type": "display_data"
    },
    {
     "name": "stdout",
     "output_type": "stream",
     "text": [
      "Outpaint step: 1 / 63\n"
     ]
    },
    {
     "data": {
      "application/vnd.jupyter.widget-view+json": {
       "model_id": "7b0ea9dde01c4973ac79757447126827",
       "version_major": 2,
       "version_minor": 0
      },
      "text/plain": [
       "  0%|          | 0/50 [00:00<?, ?it/s]"
      ]
     },
     "metadata": {},
     "output_type": "display_data"
    },
    {
     "name": "stdout",
     "output_type": "stream",
     "text": [
      "Outpaint step: 2 / 63\n"
     ]
    },
    {
     "data": {
      "application/vnd.jupyter.widget-view+json": {
       "model_id": "ae4af002e0d6429e86d51d1e9a057d6d",
       "version_major": 2,
       "version_minor": 0
      },
      "text/plain": [
       "  0%|          | 0/50 [00:00<?, ?it/s]"
      ]
     },
     "metadata": {},
     "output_type": "display_data"
    },
    {
     "name": "stdout",
     "output_type": "stream",
     "text": [
      "Outpaint step: 3 / 63\n"
     ]
    },
    {
     "data": {
      "application/vnd.jupyter.widget-view+json": {
       "model_id": "bd61ebb744324a74a7ab69a82f6c9a29",
       "version_major": 2,
       "version_minor": 0
      },
      "text/plain": [
       "  0%|          | 0/50 [00:00<?, ?it/s]"
      ]
     },
     "metadata": {},
     "output_type": "display_data"
    },
    {
     "name": "stdout",
     "output_type": "stream",
     "text": [
      "Outpaint step: 4 / 63\n"
     ]
    },
    {
     "data": {
      "application/vnd.jupyter.widget-view+json": {
       "model_id": "ff47e67db97b4cff9d97c28ee86de018",
       "version_major": 2,
       "version_minor": 0
      },
      "text/plain": [
       "  0%|          | 0/50 [00:00<?, ?it/s]"
      ]
     },
     "metadata": {},
     "output_type": "display_data"
    },
    {
     "name": "stdout",
     "output_type": "stream",
     "text": [
      "Outpaint step: 5 / 63\n"
     ]
    },
    {
     "data": {
      "application/vnd.jupyter.widget-view+json": {
       "model_id": "ff50bf8328dc45c984b1372239bd77a5",
       "version_major": 2,
       "version_minor": 0
      },
      "text/plain": [
       "  0%|          | 0/50 [00:00<?, ?it/s]"
      ]
     },
     "metadata": {},
     "output_type": "display_data"
    },
    {
     "name": "stdout",
     "output_type": "stream",
     "text": [
      "Outpaint step: 6 / 63\n"
     ]
    },
    {
     "data": {
      "application/vnd.jupyter.widget-view+json": {
       "model_id": "43420141cd8a4c70be592c5c51c159eb",
       "version_major": 2,
       "version_minor": 0
      },
      "text/plain": [
       "  0%|          | 0/50 [00:00<?, ?it/s]"
      ]
     },
     "metadata": {},
     "output_type": "display_data"
    },
    {
     "name": "stdout",
     "output_type": "stream",
     "text": [
      "Outpaint step: 7 / 63\n"
     ]
    },
    {
     "data": {
      "application/vnd.jupyter.widget-view+json": {
       "model_id": "2a3b2e200753405086508118a534f773",
       "version_major": 2,
       "version_minor": 0
      },
      "text/plain": [
       "  0%|          | 0/50 [00:00<?, ?it/s]"
      ]
     },
     "metadata": {},
     "output_type": "display_data"
    },
    {
     "name": "stdout",
     "output_type": "stream",
     "text": [
      "Outpaint step: 8 / 63\n"
     ]
    },
    {
     "data": {
      "application/vnd.jupyter.widget-view+json": {
       "model_id": "1eddb21afbb544d68f9efce9f45cf6ef",
       "version_major": 2,
       "version_minor": 0
      },
      "text/plain": [
       "  0%|          | 0/50 [00:00<?, ?it/s]"
      ]
     },
     "metadata": {},
     "output_type": "display_data"
    },
    {
     "name": "stdout",
     "output_type": "stream",
     "text": [
      "Outpaint step: 9 / 63\n"
     ]
    },
    {
     "data": {
      "application/vnd.jupyter.widget-view+json": {
       "model_id": "da495cfda0a649b0af907d8971c688ff",
       "version_major": 2,
       "version_minor": 0
      },
      "text/plain": [
       "  0%|          | 0/50 [00:00<?, ?it/s]"
      ]
     },
     "metadata": {},
     "output_type": "display_data"
    },
    {
     "name": "stdout",
     "output_type": "stream",
     "text": [
      "Outpaint step: 10 / 63\n"
     ]
    },
    {
     "data": {
      "application/vnd.jupyter.widget-view+json": {
       "model_id": "c78d9971f9a745de96a447d2841c95fd",
       "version_major": 2,
       "version_minor": 0
      },
      "text/plain": [
       "  0%|          | 0/50 [00:00<?, ?it/s]"
      ]
     },
     "metadata": {},
     "output_type": "display_data"
    },
    {
     "name": "stdout",
     "output_type": "stream",
     "text": [
      "Outpaint step: 11 / 63\n"
     ]
    },
    {
     "data": {
      "application/vnd.jupyter.widget-view+json": {
       "model_id": "8cff3299bbe247699f770596db6793a3",
       "version_major": 2,
       "version_minor": 0
      },
      "text/plain": [
       "  0%|          | 0/50 [00:00<?, ?it/s]"
      ]
     },
     "metadata": {},
     "output_type": "display_data"
    },
    {
     "name": "stdout",
     "output_type": "stream",
     "text": [
      "Outpaint step: 12 / 63\n"
     ]
    },
    {
     "data": {
      "application/vnd.jupyter.widget-view+json": {
       "model_id": "38a784325b444937859373722754aefa",
       "version_major": 2,
       "version_minor": 0
      },
      "text/plain": [
       "  0%|          | 0/50 [00:00<?, ?it/s]"
      ]
     },
     "metadata": {},
     "output_type": "display_data"
    },
    {
     "name": "stdout",
     "output_type": "stream",
     "text": [
      "Outpaint step: 13 / 63\n"
     ]
    },
    {
     "data": {
      "application/vnd.jupyter.widget-view+json": {
       "model_id": "47999e876bcb464fa926f67b8fb7eb91",
       "version_major": 2,
       "version_minor": 0
      },
      "text/plain": [
       "  0%|          | 0/50 [00:00<?, ?it/s]"
      ]
     },
     "metadata": {},
     "output_type": "display_data"
    },
    {
     "name": "stdout",
     "output_type": "stream",
     "text": [
      "Outpaint step: 14 / 63\n"
     ]
    },
    {
     "data": {
      "application/vnd.jupyter.widget-view+json": {
       "model_id": "0a0502cfbafb4d959b5f0e89e44015e8",
       "version_major": 2,
       "version_minor": 0
      },
      "text/plain": [
       "  0%|          | 0/50 [00:00<?, ?it/s]"
      ]
     },
     "metadata": {},
     "output_type": "display_data"
    },
    {
     "name": "stdout",
     "output_type": "stream",
     "text": [
      "Outpaint step: 15 / 63\n"
     ]
    },
    {
     "data": {
      "application/vnd.jupyter.widget-view+json": {
       "model_id": "30a7c37a3c9f4ad5a6c71e11fe66e6b2",
       "version_major": 2,
       "version_minor": 0
      },
      "text/plain": [
       "  0%|          | 0/50 [00:00<?, ?it/s]"
      ]
     },
     "metadata": {},
     "output_type": "display_data"
    },
    {
     "name": "stdout",
     "output_type": "stream",
     "text": [
      "Outpaint step: 16 / 63\n"
     ]
    },
    {
     "data": {
      "application/vnd.jupyter.widget-view+json": {
       "model_id": "3b4aa26a769645b9b35919f97d335784",
       "version_major": 2,
       "version_minor": 0
      },
      "text/plain": [
       "  0%|          | 0/50 [00:00<?, ?it/s]"
      ]
     },
     "metadata": {},
     "output_type": "display_data"
    },
    {
     "name": "stdout",
     "output_type": "stream",
     "text": [
      "Outpaint step: 17 / 63\n"
     ]
    },
    {
     "data": {
      "application/vnd.jupyter.widget-view+json": {
       "model_id": "5ee8252dad624f5b9796bed6c2a0deb5",
       "version_major": 2,
       "version_minor": 0
      },
      "text/plain": [
       "  0%|          | 0/50 [00:00<?, ?it/s]"
      ]
     },
     "metadata": {},
     "output_type": "display_data"
    },
    {
     "name": "stdout",
     "output_type": "stream",
     "text": [
      "Outpaint step: 18 / 63\n"
     ]
    },
    {
     "data": {
      "application/vnd.jupyter.widget-view+json": {
       "model_id": "ef5bcfa42ea54722854dbd8c6d2afebe",
       "version_major": 2,
       "version_minor": 0
      },
      "text/plain": [
       "  0%|          | 0/50 [00:00<?, ?it/s]"
      ]
     },
     "metadata": {},
     "output_type": "display_data"
    },
    {
     "name": "stdout",
     "output_type": "stream",
     "text": [
      "Outpaint step: 19 / 63\n"
     ]
    },
    {
     "data": {
      "application/vnd.jupyter.widget-view+json": {
       "model_id": "6d1e5626ef674d8981a595e4070e7af2",
       "version_major": 2,
       "version_minor": 0
      },
      "text/plain": [
       "  0%|          | 0/50 [00:00<?, ?it/s]"
      ]
     },
     "metadata": {},
     "output_type": "display_data"
    },
    {
     "name": "stdout",
     "output_type": "stream",
     "text": [
      "Outpaint step: 20 / 63\n"
     ]
    },
    {
     "data": {
      "application/vnd.jupyter.widget-view+json": {
       "model_id": "2b063d1001e340cfb81f5000253c573a",
       "version_major": 2,
       "version_minor": 0
      },
      "text/plain": [
       "  0%|          | 0/50 [00:00<?, ?it/s]"
      ]
     },
     "metadata": {},
     "output_type": "display_data"
    },
    {
     "name": "stdout",
     "output_type": "stream",
     "text": [
      "Outpaint step: 21 / 63\n"
     ]
    },
    {
     "data": {
      "application/vnd.jupyter.widget-view+json": {
       "model_id": "dc70719a16624e52bfc258e5b0248ac2",
       "version_major": 2,
       "version_minor": 0
      },
      "text/plain": [
       "  0%|          | 0/50 [00:00<?, ?it/s]"
      ]
     },
     "metadata": {},
     "output_type": "display_data"
    },
    {
     "name": "stdout",
     "output_type": "stream",
     "text": [
      "Outpaint step: 22 / 63\n"
     ]
    },
    {
     "data": {
      "application/vnd.jupyter.widget-view+json": {
       "model_id": "c400590b80b04faab53176a18f41e346",
       "version_major": 2,
       "version_minor": 0
      },
      "text/plain": [
       "  0%|          | 0/50 [00:00<?, ?it/s]"
      ]
     },
     "metadata": {},
     "output_type": "display_data"
    },
    {
     "name": "stdout",
     "output_type": "stream",
     "text": [
      "Outpaint step: 23 / 63\n"
     ]
    },
    {
     "data": {
      "application/vnd.jupyter.widget-view+json": {
       "model_id": "668e9b4f982f4931b1425063927c4179",
       "version_major": 2,
       "version_minor": 0
      },
      "text/plain": [
       "  0%|          | 0/50 [00:00<?, ?it/s]"
      ]
     },
     "metadata": {},
     "output_type": "display_data"
    },
    {
     "name": "stdout",
     "output_type": "stream",
     "text": [
      "Outpaint step: 24 / 63\n"
     ]
    },
    {
     "data": {
      "application/vnd.jupyter.widget-view+json": {
       "model_id": "8a9070bf2e964284a891f3215b1e0bd6",
       "version_major": 2,
       "version_minor": 0
      },
      "text/plain": [
       "  0%|          | 0/50 [00:00<?, ?it/s]"
      ]
     },
     "metadata": {},
     "output_type": "display_data"
    },
    {
     "name": "stdout",
     "output_type": "stream",
     "text": [
      "Outpaint step: 25 / 63\n"
     ]
    },
    {
     "data": {
      "application/vnd.jupyter.widget-view+json": {
       "model_id": "78028189088f402ebc154f619e4a853b",
       "version_major": 2,
       "version_minor": 0
      },
      "text/plain": [
       "  0%|          | 0/50 [00:00<?, ?it/s]"
      ]
     },
     "metadata": {},
     "output_type": "display_data"
    },
    {
     "name": "stdout",
     "output_type": "stream",
     "text": [
      "Outpaint step: 26 / 63\n"
     ]
    },
    {
     "data": {
      "application/vnd.jupyter.widget-view+json": {
       "model_id": "1a8838dc5cbf4677b6283b20cf6cc6f8",
       "version_major": 2,
       "version_minor": 0
      },
      "text/plain": [
       "  0%|          | 0/50 [00:00<?, ?it/s]"
      ]
     },
     "metadata": {},
     "output_type": "display_data"
    },
    {
     "name": "stdout",
     "output_type": "stream",
     "text": [
      "Outpaint step: 27 / 63\n"
     ]
    },
    {
     "data": {
      "application/vnd.jupyter.widget-view+json": {
       "model_id": "350dc683756e44378fa639e643e2160d",
       "version_major": 2,
       "version_minor": 0
      },
      "text/plain": [
       "  0%|          | 0/50 [00:00<?, ?it/s]"
      ]
     },
     "metadata": {},
     "output_type": "display_data"
    },
    {
     "name": "stdout",
     "output_type": "stream",
     "text": [
      "Outpaint step: 28 / 63\n"
     ]
    },
    {
     "data": {
      "application/vnd.jupyter.widget-view+json": {
       "model_id": "26189a7282b649eab7980505e583fa35",
       "version_major": 2,
       "version_minor": 0
      },
      "text/plain": [
       "  0%|          | 0/50 [00:00<?, ?it/s]"
      ]
     },
     "metadata": {},
     "output_type": "display_data"
    },
    {
     "name": "stdout",
     "output_type": "stream",
     "text": [
      "Outpaint step: 29 / 63\n"
     ]
    },
    {
     "data": {
      "application/vnd.jupyter.widget-view+json": {
       "model_id": "97d2b2b1973247d6accc438528be0959",
       "version_major": 2,
       "version_minor": 0
      },
      "text/plain": [
       "  0%|          | 0/50 [00:00<?, ?it/s]"
      ]
     },
     "metadata": {},
     "output_type": "display_data"
    },
    {
     "name": "stdout",
     "output_type": "stream",
     "text": [
      "Outpaint step: 30 / 63\n"
     ]
    },
    {
     "data": {
      "application/vnd.jupyter.widget-view+json": {
       "model_id": "a9b5cbb76e1d4119b3b9ed79244a1da3",
       "version_major": 2,
       "version_minor": 0
      },
      "text/plain": [
       "  0%|          | 0/50 [00:00<?, ?it/s]"
      ]
     },
     "metadata": {},
     "output_type": "display_data"
    },
    {
     "name": "stdout",
     "output_type": "stream",
     "text": [
      "Outpaint step: 31 / 63\n"
     ]
    },
    {
     "data": {
      "application/vnd.jupyter.widget-view+json": {
       "model_id": "f7e4c26b180740fa8bc4eaa97923bb08",
       "version_major": 2,
       "version_minor": 0
      },
      "text/plain": [
       "  0%|          | 0/50 [00:00<?, ?it/s]"
      ]
     },
     "metadata": {},
     "output_type": "display_data"
    },
    {
     "name": "stdout",
     "output_type": "stream",
     "text": [
      "Outpaint step: 32 / 63\n"
     ]
    },
    {
     "data": {
      "application/vnd.jupyter.widget-view+json": {
       "model_id": "686646a1e41f4fd390f9993653c006d6",
       "version_major": 2,
       "version_minor": 0
      },
      "text/plain": [
       "  0%|          | 0/50 [00:00<?, ?it/s]"
      ]
     },
     "metadata": {},
     "output_type": "display_data"
    },
    {
     "name": "stdout",
     "output_type": "stream",
     "text": [
      "Outpaint step: 33 / 63\n"
     ]
    },
    {
     "data": {
      "application/vnd.jupyter.widget-view+json": {
       "model_id": "9bd8f67772184e679ae6bf6d40ed1c73",
       "version_major": 2,
       "version_minor": 0
      },
      "text/plain": [
       "  0%|          | 0/50 [00:00<?, ?it/s]"
      ]
     },
     "metadata": {},
     "output_type": "display_data"
    },
    {
     "name": "stdout",
     "output_type": "stream",
     "text": [
      "Outpaint step: 34 / 63\n"
     ]
    },
    {
     "data": {
      "application/vnd.jupyter.widget-view+json": {
       "model_id": "eefd98b3587744049f82480e5958e746",
       "version_major": 2,
       "version_minor": 0
      },
      "text/plain": [
       "  0%|          | 0/50 [00:00<?, ?it/s]"
      ]
     },
     "metadata": {},
     "output_type": "display_data"
    },
    {
     "name": "stdout",
     "output_type": "stream",
     "text": [
      "Outpaint step: 35 / 63\n"
     ]
    },
    {
     "data": {
      "application/vnd.jupyter.widget-view+json": {
       "model_id": "00ff8a47e77947cd9dc3632a7a06a9ef",
       "version_major": 2,
       "version_minor": 0
      },
      "text/plain": [
       "  0%|          | 0/50 [00:00<?, ?it/s]"
      ]
     },
     "metadata": {},
     "output_type": "display_data"
    },
    {
     "name": "stdout",
     "output_type": "stream",
     "text": [
      "Outpaint step: 36 / 63\n"
     ]
    },
    {
     "data": {
      "application/vnd.jupyter.widget-view+json": {
       "model_id": "cb9b6173e058476a8c34cc469a044c2f",
       "version_major": 2,
       "version_minor": 0
      },
      "text/plain": [
       "  0%|          | 0/50 [00:00<?, ?it/s]"
      ]
     },
     "metadata": {},
     "output_type": "display_data"
    },
    {
     "name": "stdout",
     "output_type": "stream",
     "text": [
      "Outpaint step: 37 / 63\n"
     ]
    },
    {
     "data": {
      "application/vnd.jupyter.widget-view+json": {
       "model_id": "82c9924c1bed4aca8b0823cb0e1bc01e",
       "version_major": 2,
       "version_minor": 0
      },
      "text/plain": [
       "  0%|          | 0/50 [00:00<?, ?it/s]"
      ]
     },
     "metadata": {},
     "output_type": "display_data"
    },
    {
     "name": "stdout",
     "output_type": "stream",
     "text": [
      "Outpaint step: 38 / 63\n"
     ]
    },
    {
     "data": {
      "application/vnd.jupyter.widget-view+json": {
       "model_id": "2f169ca42d8a444483a8313549e7cf14",
       "version_major": 2,
       "version_minor": 0
      },
      "text/plain": [
       "  0%|          | 0/50 [00:00<?, ?it/s]"
      ]
     },
     "metadata": {},
     "output_type": "display_data"
    },
    {
     "name": "stdout",
     "output_type": "stream",
     "text": [
      "Outpaint step: 39 / 63\n"
     ]
    },
    {
     "data": {
      "application/vnd.jupyter.widget-view+json": {
       "model_id": "d4522a53d91c4ad0a4e1cb13df1ff58b",
       "version_major": 2,
       "version_minor": 0
      },
      "text/plain": [
       "  0%|          | 0/50 [00:00<?, ?it/s]"
      ]
     },
     "metadata": {},
     "output_type": "display_data"
    },
    {
     "name": "stdout",
     "output_type": "stream",
     "text": [
      "Outpaint step: 40 / 63\n"
     ]
    },
    {
     "data": {
      "application/vnd.jupyter.widget-view+json": {
       "model_id": "f3e1598948eb4737803cfd1e6e076e9c",
       "version_major": 2,
       "version_minor": 0
      },
      "text/plain": [
       "  0%|          | 0/50 [00:00<?, ?it/s]"
      ]
     },
     "metadata": {},
     "output_type": "display_data"
    },
    {
     "name": "stdout",
     "output_type": "stream",
     "text": [
      "Outpaint step: 41 / 63\n"
     ]
    },
    {
     "data": {
      "application/vnd.jupyter.widget-view+json": {
       "model_id": "c85c79bb83a8413c9f53c6e348db656b",
       "version_major": 2,
       "version_minor": 0
      },
      "text/plain": [
       "  0%|          | 0/50 [00:00<?, ?it/s]"
      ]
     },
     "metadata": {},
     "output_type": "display_data"
    },
    {
     "name": "stdout",
     "output_type": "stream",
     "text": [
      "Outpaint step: 42 / 63\n"
     ]
    },
    {
     "data": {
      "application/vnd.jupyter.widget-view+json": {
       "model_id": "dba9c52b4c7a4c2f9967b4b77f9861d7",
       "version_major": 2,
       "version_minor": 0
      },
      "text/plain": [
       "  0%|          | 0/50 [00:00<?, ?it/s]"
      ]
     },
     "metadata": {},
     "output_type": "display_data"
    },
    {
     "name": "stdout",
     "output_type": "stream",
     "text": [
      "Outpaint step: 43 / 63\n"
     ]
    },
    {
     "data": {
      "application/vnd.jupyter.widget-view+json": {
       "model_id": "dfa554eb18e24f52909eafb960986071",
       "version_major": 2,
       "version_minor": 0
      },
      "text/plain": [
       "  0%|          | 0/50 [00:00<?, ?it/s]"
      ]
     },
     "metadata": {},
     "output_type": "display_data"
    },
    {
     "name": "stdout",
     "output_type": "stream",
     "text": [
      "Outpaint step: 44 / 63\n"
     ]
    },
    {
     "data": {
      "application/vnd.jupyter.widget-view+json": {
       "model_id": "b24ebb66333744118676ed84541213e0",
       "version_major": 2,
       "version_minor": 0
      },
      "text/plain": [
       "  0%|          | 0/50 [00:00<?, ?it/s]"
      ]
     },
     "metadata": {},
     "output_type": "display_data"
    },
    {
     "name": "stdout",
     "output_type": "stream",
     "text": [
      "Outpaint step: 45 / 63\n"
     ]
    },
    {
     "data": {
      "application/vnd.jupyter.widget-view+json": {
       "model_id": "b995fe4a761f4eb0aca0cda680ba8d62",
       "version_major": 2,
       "version_minor": 0
      },
      "text/plain": [
       "  0%|          | 0/50 [00:00<?, ?it/s]"
      ]
     },
     "metadata": {},
     "output_type": "display_data"
    },
    {
     "name": "stdout",
     "output_type": "stream",
     "text": [
      "Outpaint step: 46 / 63\n"
     ]
    },
    {
     "data": {
      "application/vnd.jupyter.widget-view+json": {
       "model_id": "f5e518b8a1a549a8a392d4d4d2ce53e9",
       "version_major": 2,
       "version_minor": 0
      },
      "text/plain": [
       "  0%|          | 0/50 [00:00<?, ?it/s]"
      ]
     },
     "metadata": {},
     "output_type": "display_data"
    },
    {
     "name": "stdout",
     "output_type": "stream",
     "text": [
      "Outpaint step: 47 / 63\n"
     ]
    },
    {
     "data": {
      "application/vnd.jupyter.widget-view+json": {
       "model_id": "db40b88d222548218ae4d39a05c63870",
       "version_major": 2,
       "version_minor": 0
      },
      "text/plain": [
       "  0%|          | 0/50 [00:00<?, ?it/s]"
      ]
     },
     "metadata": {},
     "output_type": "display_data"
    },
    {
     "name": "stdout",
     "output_type": "stream",
     "text": [
      "Outpaint step: 48 / 63\n"
     ]
    },
    {
     "data": {
      "application/vnd.jupyter.widget-view+json": {
       "model_id": "cf68a7e420014c6aa413ba98e4758519",
       "version_major": 2,
       "version_minor": 0
      },
      "text/plain": [
       "  0%|          | 0/50 [00:00<?, ?it/s]"
      ]
     },
     "metadata": {},
     "output_type": "display_data"
    },
    {
     "name": "stdout",
     "output_type": "stream",
     "text": [
      "Outpaint step: 49 / 63\n"
     ]
    },
    {
     "data": {
      "application/vnd.jupyter.widget-view+json": {
       "model_id": "7c2bd6a1d18e4afeb63548f9e3404581",
       "version_major": 2,
       "version_minor": 0
      },
      "text/plain": [
       "  0%|          | 0/50 [00:00<?, ?it/s]"
      ]
     },
     "metadata": {},
     "output_type": "display_data"
    },
    {
     "name": "stdout",
     "output_type": "stream",
     "text": [
      "Outpaint step: 50 / 63\n"
     ]
    },
    {
     "data": {
      "application/vnd.jupyter.widget-view+json": {
       "model_id": "bb0aa670c46943919f0285253154cce0",
       "version_major": 2,
       "version_minor": 0
      },
      "text/plain": [
       "  0%|          | 0/50 [00:00<?, ?it/s]"
      ]
     },
     "metadata": {},
     "output_type": "display_data"
    },
    {
     "name": "stdout",
     "output_type": "stream",
     "text": [
      "Outpaint step: 51 / 63\n"
     ]
    },
    {
     "data": {
      "application/vnd.jupyter.widget-view+json": {
       "model_id": "a4d2b626f5bd43609f60d65095c4289e",
       "version_major": 2,
       "version_minor": 0
      },
      "text/plain": [
       "  0%|          | 0/50 [00:00<?, ?it/s]"
      ]
     },
     "metadata": {},
     "output_type": "display_data"
    },
    {
     "name": "stdout",
     "output_type": "stream",
     "text": [
      "Outpaint step: 52 / 63\n"
     ]
    },
    {
     "data": {
      "application/vnd.jupyter.widget-view+json": {
       "model_id": "95c343a82ff9412f9d8dc9dd4b615871",
       "version_major": 2,
       "version_minor": 0
      },
      "text/plain": [
       "  0%|          | 0/50 [00:00<?, ?it/s]"
      ]
     },
     "metadata": {},
     "output_type": "display_data"
    },
    {
     "name": "stdout",
     "output_type": "stream",
     "text": [
      "Outpaint step: 53 / 63\n"
     ]
    },
    {
     "data": {
      "application/vnd.jupyter.widget-view+json": {
       "model_id": "3c4380d4400d46289b21bc76d4560dbf",
       "version_major": 2,
       "version_minor": 0
      },
      "text/plain": [
       "  0%|          | 0/50 [00:00<?, ?it/s]"
      ]
     },
     "metadata": {},
     "output_type": "display_data"
    },
    {
     "name": "stdout",
     "output_type": "stream",
     "text": [
      "Outpaint step: 54 / 63\n"
     ]
    },
    {
     "data": {
      "application/vnd.jupyter.widget-view+json": {
       "model_id": "0d4e64a3e48540b59e4d06e742f657df",
       "version_major": 2,
       "version_minor": 0
      },
      "text/plain": [
       "  0%|          | 0/50 [00:00<?, ?it/s]"
      ]
     },
     "metadata": {},
     "output_type": "display_data"
    },
    {
     "name": "stdout",
     "output_type": "stream",
     "text": [
      "Outpaint step: 55 / 63\n"
     ]
    },
    {
     "data": {
      "application/vnd.jupyter.widget-view+json": {
       "model_id": "096302d304504df995823731943ee101",
       "version_major": 2,
       "version_minor": 0
      },
      "text/plain": [
       "  0%|          | 0/50 [00:00<?, ?it/s]"
      ]
     },
     "metadata": {},
     "output_type": "display_data"
    },
    {
     "name": "stdout",
     "output_type": "stream",
     "text": [
      "Outpaint step: 56 / 63\n"
     ]
    },
    {
     "data": {
      "application/vnd.jupyter.widget-view+json": {
       "model_id": "a88cbfac88614db392e2d4180a9ec1b1",
       "version_major": 2,
       "version_minor": 0
      },
      "text/plain": [
       "  0%|          | 0/50 [00:00<?, ?it/s]"
      ]
     },
     "metadata": {},
     "output_type": "display_data"
    },
    {
     "name": "stdout",
     "output_type": "stream",
     "text": [
      "Outpaint step: 57 / 63\n"
     ]
    },
    {
     "data": {
      "application/vnd.jupyter.widget-view+json": {
       "model_id": "48040a1276c843adbd1979709b78de66",
       "version_major": 2,
       "version_minor": 0
      },
      "text/plain": [
       "  0%|          | 0/50 [00:00<?, ?it/s]"
      ]
     },
     "metadata": {},
     "output_type": "display_data"
    },
    {
     "name": "stdout",
     "output_type": "stream",
     "text": [
      "Outpaint step: 58 / 63\n"
     ]
    },
    {
     "data": {
      "application/vnd.jupyter.widget-view+json": {
       "model_id": "624fbbdfd2b341a7b57e329d83a2ded3",
       "version_major": 2,
       "version_minor": 0
      },
      "text/plain": [
       "  0%|          | 0/50 [00:00<?, ?it/s]"
      ]
     },
     "metadata": {},
     "output_type": "display_data"
    },
    {
     "name": "stdout",
     "output_type": "stream",
     "text": [
      "Outpaint step: 59 / 63\n"
     ]
    },
    {
     "data": {
      "application/vnd.jupyter.widget-view+json": {
       "model_id": "d77c8a42135148d697254ed49f44575c",
       "version_major": 2,
       "version_minor": 0
      },
      "text/plain": [
       "  0%|          | 0/50 [00:00<?, ?it/s]"
      ]
     },
     "metadata": {},
     "output_type": "display_data"
    },
    {
     "name": "stdout",
     "output_type": "stream",
     "text": [
      "Outpaint step: 60 / 63\n"
     ]
    },
    {
     "data": {
      "application/vnd.jupyter.widget-view+json": {
       "model_id": "d191163c93d8495ba3ea574163189a7c",
       "version_major": 2,
       "version_minor": 0
      },
      "text/plain": [
       "  0%|          | 0/50 [00:00<?, ?it/s]"
      ]
     },
     "metadata": {},
     "output_type": "display_data"
    },
    {
     "name": "stdout",
     "output_type": "stream",
     "text": [
      "Outpaint step: 61 / 63\n"
     ]
    },
    {
     "data": {
      "application/vnd.jupyter.widget-view+json": {
       "model_id": "f31e25cbbb9c4f9ba28d228304ed5189",
       "version_major": 2,
       "version_minor": 0
      },
      "text/plain": [
       "  0%|          | 0/50 [00:00<?, ?it/s]"
      ]
     },
     "metadata": {},
     "output_type": "display_data"
    },
    {
     "name": "stdout",
     "output_type": "stream",
     "text": [
      "Outpaint step: 62 / 63\n"
     ]
    },
    {
     "data": {
      "application/vnd.jupyter.widget-view+json": {
       "model_id": "51384581cfd34dc49ec486e4335982ae",
       "version_major": 2,
       "version_minor": 0
      },
      "text/plain": [
       "  0%|          | 0/50 [00:00<?, ?it/s]"
      ]
     },
     "metadata": {},
     "output_type": "display_data"
    },
    {
     "name": "stdout",
     "output_type": "stream",
     "text": [
      "Outpaint step: 63 / 63\n"
     ]
    },
    {
     "data": {
      "application/vnd.jupyter.widget-view+json": {
       "model_id": "5f5a61a5c3ab495283d750db21de31f3",
       "version_major": 2,
       "version_minor": 0
      },
      "text/plain": [
       "  0%|          | 0/50 [00:00<?, ?it/s]"
      ]
     },
     "metadata": {},
     "output_type": "display_data"
    },
    {
     "data": {
      "text/plain": [
       "'infinite_zoom_1709874173.6395056.mp4'"
      ]
     },
     "execution_count": 48,
     "metadata": {},
     "output_type": "execute_result"
    }
   ],
   "source": [
    "zoom(scenes,\n",
    "    default_negative_prompt,\n",
    "    num_outpainting_steps = video_duration,\n",
    "    guidance_scale = 7,\n",
    "    num_inference_steps = 50,\n",
    "    custom_init_image = None)"
   ]
  },
  {
   "cell_type": "code",
   "execution_count": 49,
   "id": "6e08bab6-a1d8-45f8-bd61-59587bec2d22",
   "metadata": {
    "tags": []
   },
   "outputs": [],
   "source": [
    "video_file = './test.mp4'\n",
    "!rm -rf test_dummy.mp4"
   ]
  },
  {
   "cell_type": "code",
   "execution_count": null,
   "id": "1a2e943a-773c-4976-a516-f251baf2c2d4",
   "metadata": {},
   "outputs": [],
   "source": [
    "def get_crop_height_and_width(x, y):\n",
    "    while(int(x*16/9) > y):\n",
    "        x = int(x * 0.95)\n",
    "    y = int(x*16/9)\n",
    "    return x, y\n",
    "\n",
    "def resize_video(input_path, save_path, resize='crop'):\n",
    "    v1 = VideoFileClip(input_path)\n",
    "    aspect_ratio = v1.size[0]/v1.size[1]\n",
    "    sp.call(f\"rm -rf {save_path}\", shell = True)\n",
    "    if resize=='crop':\n",
    "        crop_width, crop_height = get_crop_height_and_width(v1.size[0], v1.size[1])\n",
    "        sp.call(f\"ffmpeg -hide_banner -loglevel error -i {input_path} -vf 'crop={crop_width}:{crop_height},scale=720:1280' {save_path}\", shell = True)\n",
    "    else:\n",
    "        if aspect_ratio < 0.5625:\n",
    "            sp.call(f\"ffmpeg -hide_banner -loglevel error -i {input_path} -vf 'split[original][copy];[copy]scale=((9*ih)/16):((9*ih*ih)/(16*iw)),crop=h=(16*iw/9),gblur=sigma=25[blurred];[blurred][original]overlay=(main_w-overlay_w)/2:(main_h-overlay_h)/2[final];[final]scale=720:1280' {save_path}\", shell = True)\n",
    "        elif aspect_ratio > 0.5625:\n",
    "            sp.call(f\"ffmpeg -hide_banner -loglevel error -i {input_path} -vf 'split[original][copy];[copy]scale=(16/9)*iw*iw/ih:(16*iw/9),crop=w=(9*ih/16),gblur=sigma=25[blurred];[blurred][original]overlay=(main_w-overlay_w)/2:(main_h-overlay_h)/2[final];[final]scale=720:1280' {save_path}\", shell = True)\n",
    "        else:\n",
    "            sp.call(f\"ffmpeg -hide_banner -loglevel error -i {input_path} -vf '[original]scale=720:1280' {save_path}\", shell = True)"
   ]
  },
  {
   "cell_type": "code",
   "execution_count": null,
   "id": "6619c12a-961d-491a-bb52-9df98cf9f69c",
   "metadata": {},
   "outputs": [],
   "source": [
    "resize_video('test_dummy.mp4', video_file)"
   ]
  },
  {
   "cell_type": "code",
   "execution_count": null,
   "id": "548ff515-b767-4410-affc-c7fd5c98e966",
   "metadata": {},
   "outputs": [],
   "source": [
    "!rm -rf story.mp4"
   ]
  },
  {
   "cell_type": "code",
   "execution_count": 51,
   "id": "501e471b-3daf-4457-91b2-9e9f2b71eb95",
   "metadata": {
    "tags": []
   },
   "outputs": [],
   "source": [
    "videoclip = VideoFileClip(video_file).subclip(0, video_duration) \n",
    "\n",
    "# audioclip = audioclip.audio_loop(duration = videoclip.duration)\n",
    "\n",
    "new_audioclip = CompositeAudioClip([audioclip])\n",
    "videoclip.audio = new_audioclip\n",
    "videoclip.write_videofile(\"story.mp4\",\n",
    "                          codec='libx264', \n",
    "                          audio_codec='aac',\n",
    "                          remove_temp=True,\n",
    "                          verbose=False,\n",
    "                          logger=None)"
   ]
  },
  {
   "cell_type": "code",
   "execution_count": null,
   "id": "a296d663-82e0-4714-950d-48953705379a",
   "metadata": {},
   "outputs": [],
   "source": []
  }
 ],
 "metadata": {
  "environment": {
   "kernel": "infinitezoom_env",
   "name": ".m114",
   "type": "gcloud",
   "uri": "gcr.io/deeplearning-platform-release/:m114"
  },
  "kernelspec": {
   "display_name": "infinitezoom_kernel",
   "language": "python",
   "name": "infinitezoom_env"
  },
  "language_info": {
   "codemirror_mode": {
    "name": "ipython",
    "version": 3
   },
   "file_extension": ".py",
   "mimetype": "text/x-python",
   "name": "python",
   "nbconvert_exporter": "python",
   "pygments_lexer": "ipython3",
   "version": "3.10.13"
  }
 },
 "nbformat": 4,
 "nbformat_minor": 5
}
